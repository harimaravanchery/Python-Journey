{
 "cells": [
  {
   "cell_type": "markdown",
   "id": "4e03feba",
   "metadata": {},
   "source": [
    "# Fibonacci Series Upto a number"
   ]
  },
  {
   "cell_type": "code",
   "execution_count": null,
   "id": "709ef97d",
   "metadata": {},
   "outputs": [
    {
     "ename": "",
     "evalue": "",
     "output_type": "error",
     "traceback": [
      "\u001b[1;31mThe kernel failed to start as the Python Environment 'mypyenv (Python -1.-1.-1)' is no longer available. Consider selecting another kernel or refreshing the list of Python Environments."
     ]
    }
   ],
   "source": [
    "num = int(input(\"Enter the Number of Fibonacci Numbers that you would like to display starting from 0: \"))\n",
    "fibonacci = [0]\n",
    "\n",
    "# Handle the case where num > 1\n",
    "if num > 1:\n",
    "    fibonacci.append(1)\n",
    "\n",
    "# Calculate further Fibonacci numbers\n",
    "for i in range(2, num):\n",
    "    fibonacci.append(fibonacci[i - 1] + fibonacci[i - 2])\n",
    "\n",
    "print(fibonacci)"
   ]
  },
  {
   "cell_type": "markdown",
   "id": "d14a5ae6",
   "metadata": {},
   "source": [
    "# Dot Product of 2 Lists"
   ]
  },
  {
   "cell_type": "code",
   "execution_count": null,
   "id": "e3873344",
   "metadata": {},
   "outputs": [],
   "source": [
    "list1 = list(input(\"Enter the first list of numbers separated by comma: \").split(\",\"))\n",
    "\n",
    "list2 = list(input(\"Enter the second list of numbers separated by comma. List 2 should be of same size as list one: \").split(\",\"))\n",
    "\n",
    "if len(list1) != len(list2):\n",
    "    print(\"The two lists should be of the same size\")\n",
    "else:\n",
    "    product = 0\n",
    "    for i in range(len(list1)):\n",
    "        # Calculate the dot product of the two lists\n",
    "        product = product + (float(list1[i]) * float(list2[i]))\n",
    "    print(\"The dotproduct of the two lists is: \", product)"
   ]
  },
  {
   "cell_type": "code",
   "execution_count": null,
   "id": "d6bd7de5",
   "metadata": {},
   "outputs": [],
   "source": [
    "import re\n",
    "\n",
    "list1 = list(re.split(r'[ ,]+', input(\"Enter the first list of numbers separated by comma or space: \")))\n",
    "list2 = list(re.split(r'[ ,]+', input(\"Enter the second list of numbers separated by comma or space. Please note List 2 should be of same size as list one: \")))\n",
    "\n",
    "if len(list1) != len(list2):\n",
    "    print(\"The two lists should be of the same size\")\n",
    "else:\n",
    "    product = 0\n",
    "    for i in range(len(list1)):\n",
    "        # Calculate the dot product of the two lists\n",
    "        product = product + (float(list1[i]) * float(list2[i]))\n",
    "    print(\"The dotproduct of the two lists is: \", product)"
   ]
  },
  {
   "cell_type": "markdown",
   "id": "335f5be7",
   "metadata": {},
   "source": [
    "# Check whether a number is palindrome"
   ]
  },
  {
   "cell_type": "code",
   "execution_count": null,
   "id": "7eb2bf35",
   "metadata": {},
   "outputs": [],
   "source": [
    "num = int(input(\"Enter a number: \"))\n",
    "num_str = str(abs(num))\n",
    "num_len = len(num_str)\n",
    "\n",
    "if num_len == 1:\n",
    "    num_mid = 0\n",
    "else:\n",
    "    if num_len%2 == 0:\n",
    "        num_mid = int(num_len/2)\n",
    "    else:\n",
    "        num_mid = int((num_len+1)/2)\n",
    "\n",
    "num_lst = []\n",
    "for i in num_str:\n",
    "    num_lst.append(int(i))\n",
    "\n",
    "palindrome = False\n",
    "\n",
    "if (num_len == 1):\n",
    "    palindrome = True\n",
    "else:\n",
    "    for i in range(num_mid):\n",
    "        if(num_lst[i] != num_lst[num_len-i-1]):\n",
    "            palindrome = False\n",
    "            break\n",
    "        else:\n",
    "            palindrome = True\n",
    "\n",
    "if palindrome == True:\n",
    "    print(\"The number : '\" + str(num) + \"' is a palindrome\")\n",
    "else:\n",
    "    print(\"The number : '\" + str(num) + \"' is not a palindrome\")\n",
    "\n",
    "\n",
    "\n",
    "\n"
   ]
  },
  {
   "cell_type": "code",
   "execution_count": null,
   "id": "a077893c",
   "metadata": {},
   "outputs": [],
   "source": [
    "num = int(input(\"Enter a number: \"))\n",
    "num_str = str(abs(num))\n",
    "\n",
    "# Check if the number is a palindrome\n",
    "if num_str == num_str[::-1]:\n",
    "    print(f\"The number: '{num}' is a palindrome\")\n",
    "else:\n",
    "    print(f\"The number: '{num}' is not a palindrome\")"
   ]
  },
  {
   "cell_type": "markdown",
   "id": "c213e00f",
   "metadata": {},
   "source": [
    "# Contacts"
   ]
  },
  {
   "cell_type": "code",
   "execution_count": 15,
   "id": "95c01d8c",
   "metadata": {},
   "outputs": [],
   "source": [
    "import os\n",
    "id = 0\n",
    "\n",
    "def AddToContacts(name, phone,email,group):\n",
    "    global id\n",
    "\n",
    "    with open(\"contacts.txt\", \"a\") as f:\n",
    "        id+= 1\n",
    "        # Write the contact details to the file\n",
    "        f.write(f\"{id},{name},{phone},{email},{group}\\n\")\n",
    "        print(f\"Contact '{name}' added successfully!\")\n",
    "\n",
    "def SearchViaName(name):\n",
    "    with open(\"contacts.txt\", \"r\") as f:\n",
    "        found = False\n",
    "        for line in f:\n",
    "            contact = line.strip().split(\",\")\n",
    "            if contact[1].lower() == name.lower():\n",
    "                print(f\"Contact found: {contact[0]},{contact[1]},{contact[2]},{contact[3]},{contact[4]}\\n\")\n",
    "                found = True\n",
    "        if not found:\n",
    "            print(f\"No contact found with the name '{name}'\")\n",
    "\n",
    "def SearchViaGroup(group):\n",
    "    with open(\"contacts.txt\", \"r\") as f:\n",
    "        found = False\n",
    "        for line in f:\n",
    "            contact = line.strip().split(\",\")\n",
    "            if contact[4].lower() == group.lower():\n",
    "                print(f\"Contact found: {contact[0]},{contact[1]},{contact[2]},{contact[3]},{contact[4]}\\n\")\n",
    "                found = True\n",
    "        if not found:\n",
    "            print(f\"No contacts found in the group '{group}'\")\n",
    "\n",
    "def DeleteContact(identifier):\n",
    "    global id\n",
    "    local_id = 0\n",
    "    with open(\"contacts.txt\", \"r\") as f:\n",
    "        lines = f.readlines()\n",
    "    with open(\"contacts.txt\", \"w\") as f:\n",
    "        found = False\n",
    "        for line in lines:\n",
    "            contact = line.strip().split(\",\")\n",
    "\n",
    "            if contact[0] != str(identifier):\n",
    "                f.write(line)\n",
    "            else:\n",
    "                found = True\n",
    "\n",
    "            contact[0] = str(local_id)\n",
    "            local_id += 1\n",
    "        if found:\n",
    "            print(f\"Contact '{identifier} deleted successfully!\")\n",
    "        else:\n",
    "            print(f\"No contact found with the identifier '{identifier}'\")\n",
    "\n",
    "    id = local_id\n",
    "    \n",
    "def ListAllContacts():\n",
    "    with open(\"contacts.txt\", \"r\") as f:\n",
    "        for line in f:\n",
    "            contact = line.strip().split(\",\")\n",
    "            print(f\"Contact: {contact[0]},{contact[1]},{contact[2]},{contact[3]},{contact[4]}\")\n",
    "\n",
    "def UpdateContact(identifier, name, phone, email, group):\n",
    "    with open(\"contacts.txt\", \"r\") as f:\n",
    "        lines = f.readlines()\n",
    "    with open(\"contacts.txt\", \"w\") as f:\n",
    "        found = False\n",
    "        for line in lines:\n",
    "            contact = line.strip().split(\",\")\n",
    "            if contact[0] == str(identifier):\n",
    "                contact[1] = name\n",
    "                contact[2] = phone\n",
    "                contact[3] = email\n",
    "                contact[4] = group\n",
    "                found = True\n",
    "            f.write(\",\".join(contact) + \"\\n\")\n",
    "        if found:\n",
    "            print(f\"Contact '{identifier}' updated successfully!\")\n",
    "        else:\n",
    "            print(f\"No contact found with the identifier '{identifier}'\")\n",
    "    "
   ]
  },
  {
   "cell_type": "markdown",
   "id": "4be0470a",
   "metadata": {},
   "source": [
    "### Add contacts"
   ]
  },
  {
   "cell_type": "code",
   "execution_count": 2,
   "id": "75f2827a",
   "metadata": {},
   "outputs": [
    {
     "name": "stdout",
     "output_type": "stream",
     "text": [
      "Contact 'Hari.M.M' added successfully!\n",
      "Contact 'hari' added successfully!\n"
     ]
    }
   ],
   "source": [
    "AddToContacts(\"Hari.M.M\",\"12345678\",\"xyz@123\",\"Friends\")\n",
    "AddToContacts(\"hari\",\"125673123\",\"abc@123\",\"Office\")"
   ]
  },
  {
   "cell_type": "code",
   "execution_count": 3,
   "id": "a6cf42e9",
   "metadata": {},
   "outputs": [
    {
     "name": "stdout",
     "output_type": "stream",
     "text": [
      "Contact: 1,Hari.M.M,12345678,xyz@123,Friends\n",
      "Contact: 2,hari,125673123,abc@123,Office\n"
     ]
    }
   ],
   "source": [
    "ListAllContacts()"
   ]
  },
  {
   "cell_type": "code",
   "execution_count": 5,
   "id": "5da9934c",
   "metadata": {},
   "outputs": [
    {
     "name": "stdout",
     "output_type": "stream",
     "text": [
      "Contact found: 2,hari,125673123,abc@123,Office\n",
      "\n"
     ]
    }
   ],
   "source": [
    "SearchViaName(\"hari\")"
   ]
  },
  {
   "cell_type": "code",
   "execution_count": 6,
   "id": "678eaaca",
   "metadata": {},
   "outputs": [
    {
     "name": "stdout",
     "output_type": "stream",
     "text": [
      "Contact found: 1,Hari.M.M,12345678,xyz@123,Friends\n",
      "\n"
     ]
    }
   ],
   "source": [
    "SearchViaGroup(\"friends\")"
   ]
  },
  {
   "cell_type": "code",
   "execution_count": 7,
   "id": "332d640d",
   "metadata": {},
   "outputs": [
    {
     "name": "stdout",
     "output_type": "stream",
     "text": [
      "Contact '1' updated successfully!\n"
     ]
    }
   ],
   "source": [
    "UpdateContact(1, \"abc\",\"222222222\",\"abc@xyz\",\"Friends\")"
   ]
  },
  {
   "cell_type": "code",
   "execution_count": 8,
   "id": "6fcf9c3e",
   "metadata": {},
   "outputs": [
    {
     "name": "stdout",
     "output_type": "stream",
     "text": [
      "Contact: 1,abc,222222222,abc@xyz,Friends\n",
      "Contact: 2,hari,125673123,abc@123,Office\n"
     ]
    }
   ],
   "source": [
    "ListAllContacts()"
   ]
  },
  {
   "cell_type": "code",
   "execution_count": 16,
   "id": "a90ba583",
   "metadata": {},
   "outputs": [
    {
     "name": "stdout",
     "output_type": "stream",
     "text": [
      "No contact found with the identifier '2'\n"
     ]
    }
   ],
   "source": [
    "DeleteContact(2)"
   ]
  },
  {
   "cell_type": "code",
   "execution_count": 17,
   "id": "d6985bba",
   "metadata": {},
   "outputs": [
    {
     "name": "stdout",
     "output_type": "stream",
     "text": [
      "Contact: 1,abc,222222222,abc@xyz,Friends\n"
     ]
    }
   ],
   "source": [
    "ListAllContacts()"
   ]
  },
  {
   "cell_type": "code",
   "execution_count": 18,
   "id": "83086767",
   "metadata": {},
   "outputs": [
    {
     "name": "stdout",
     "output_type": "stream",
     "text": [
      "Contact 'Hari.M.M' added successfully!\n",
      "Contact 'hari' added successfully!\n"
     ]
    }
   ],
   "source": [
    "AddToContacts(\"Hari.M.M\",\"12345678\",\"xyz@123\",\"Friends\")\n",
    "AddToContacts(\"hari\",\"125673123\",\"abc@123\",\"Office\")"
   ]
  },
  {
   "cell_type": "code",
   "execution_count": 19,
   "id": "c77557dc",
   "metadata": {},
   "outputs": [
    {
     "name": "stdout",
     "output_type": "stream",
     "text": [
      "Contact: 1,abc,222222222,abc@xyz,Friends\n",
      "Contact: 2,Hari.M.M,12345678,xyz@123,Friends\n",
      "Contact: 3,hari,125673123,abc@123,Office\n"
     ]
    }
   ],
   "source": [
    "ListAllContacts()"
   ]
  },
  {
   "cell_type": "markdown",
   "id": "bf4c233e",
   "metadata": {},
   "source": [
    "# TODO List "
   ]
  },
  {
   "cell_type": "code",
   "execution_count": 20,
   "id": "232e25ca",
   "metadata": {},
   "outputs": [
    {
     "name": "stdout",
     "output_type": "stream",
     "text": [
      "\n",
      "Welcome to ToDo List App\n",
      "Press 1 - To add a new task to ToDo List\n",
      "Press 2 - To Remove Task From ToDo List\n",
      "Press 3 - To complete task\n",
      "Press 4 - To view Active ToDo List\n",
      "Press 5 - To view All Tasks (Active + Completed)\n",
      "Press 6 - To exit\n",
      "Task 'Do Assignment' added with ID 1.\n",
      "\n",
      "Welcome to ToDo List App\n",
      "Press 1 - To add a new task to ToDo List\n",
      "Press 2 - To Remove Task From ToDo List\n",
      "Press 3 - To complete task\n",
      "Press 4 - To view Active ToDo List\n",
      "Press 5 - To view All Tasks (Active + Completed)\n",
      "Press 6 - To exit\n",
      "Task 'Buy Vegetables' added with ID 2.\n",
      "\n",
      "Welcome to ToDo List App\n",
      "Press 1 - To add a new task to ToDo List\n",
      "Press 2 - To Remove Task From ToDo List\n",
      "Press 3 - To complete task\n",
      "Press 4 - To view Active ToDo List\n",
      "Press 5 - To view All Tasks (Active + Completed)\n",
      "Press 6 - To exit\n",
      "Task 'Clean Home' added with ID 3.\n",
      "\n",
      "Welcome to ToDo List App\n",
      "Press 1 - To add a new task to ToDo List\n",
      "Press 2 - To Remove Task From ToDo List\n",
      "Press 3 - To complete task\n",
      "Press 4 - To view Active ToDo List\n",
      "Press 5 - To view All Tasks (Active + Completed)\n",
      "Press 6 - To exit\n",
      "Active Tasks:\n",
      "ID: 1 - Do Assignment\n",
      "ID: 2 - Buy Vegetables\n",
      "ID: 3 - Clean Home\n",
      "\n",
      "Welcome to ToDo List App\n",
      "Press 1 - To add a new task to ToDo List\n",
      "Press 2 - To Remove Task From ToDo List\n",
      "Press 3 - To complete task\n",
      "Press 4 - To view Active ToDo List\n",
      "Press 5 - To view All Tasks (Active + Completed)\n",
      "Press 6 - To exit\n",
      "Active Tasks:\n",
      "ID: 1 - Do Assignment\n",
      "ID: 2 - Buy Vegetables\n",
      "ID: 3 - Clean Home\n",
      "Task with ID 3 marked as completed.\n",
      "\n",
      "Welcome to ToDo List App\n",
      "Press 1 - To add a new task to ToDo List\n",
      "Press 2 - To Remove Task From ToDo List\n",
      "Press 3 - To complete task\n",
      "Press 4 - To view Active ToDo List\n",
      "Press 5 - To view All Tasks (Active + Completed)\n",
      "Press 6 - To exit\n",
      "Active Tasks:\n",
      "ID: 1 - Do Assignment\n",
      "ID: 2 - Buy Vegetables\n",
      "\n",
      "Welcome to ToDo List App\n",
      "Press 1 - To add a new task to ToDo List\n",
      "Press 2 - To Remove Task From ToDo List\n",
      "Press 3 - To complete task\n",
      "Press 4 - To view Active ToDo List\n",
      "Press 5 - To view All Tasks (Active + Completed)\n",
      "Press 6 - To exit\n",
      "All Tasks:\n",
      "ID: 1 - Do Assignment - Status: Active\n",
      "ID: 2 - Buy Vegetables - Status: Active\n",
      "ID: 3 - Clean Home - Status: Completed\n",
      "\n",
      "Welcome to ToDo List App\n",
      "Press 1 - To add a new task to ToDo List\n",
      "Press 2 - To Remove Task From ToDo List\n",
      "Press 3 - To complete task\n",
      "Press 4 - To view Active ToDo List\n",
      "Press 5 - To view All Tasks (Active + Completed)\n",
      "Press 6 - To exit\n",
      "Active Tasks:\n",
      "ID: 1 - Do Assignment\n",
      "ID: 2 - Buy Vegetables\n",
      "Task with ID 1 removed.\n",
      "\n",
      "Welcome to ToDo List App\n",
      "Press 1 - To add a new task to ToDo List\n",
      "Press 2 - To Remove Task From ToDo List\n",
      "Press 3 - To complete task\n",
      "Press 4 - To view Active ToDo List\n",
      "Press 5 - To view All Tasks (Active + Completed)\n",
      "Press 6 - To exit\n",
      "All Tasks:\n",
      "ID: 1 - Buy Vegetables - Status: Active\n",
      "ID: 2 - Clean Home - Status: Completed\n",
      "\n",
      "Welcome to ToDo List App\n",
      "Press 1 - To add a new task to ToDo List\n",
      "Press 2 - To Remove Task From ToDo List\n",
      "Press 3 - To complete task\n",
      "Press 4 - To view Active ToDo List\n",
      "Press 5 - To view All Tasks (Active + Completed)\n",
      "Press 6 - To exit\n",
      "Task 'Buy Fruits' added with ID 3.\n",
      "\n",
      "Welcome to ToDo List App\n",
      "Press 1 - To add a new task to ToDo List\n",
      "Press 2 - To Remove Task From ToDo List\n",
      "Press 3 - To complete task\n",
      "Press 4 - To view Active ToDo List\n",
      "Press 5 - To view All Tasks (Active + Completed)\n",
      "Press 6 - To exit\n",
      "All Tasks:\n",
      "ID: 1 - Buy Vegetables - Status: Active\n",
      "ID: 2 - Clean Home - Status: Completed\n",
      "ID: 3 - Buy Fruits - Status: Active\n",
      "\n",
      "Welcome to ToDo List App\n",
      "Press 1 - To add a new task to ToDo List\n",
      "Press 2 - To Remove Task From ToDo List\n",
      "Press 3 - To complete task\n",
      "Press 4 - To view Active ToDo List\n",
      "Press 5 - To view All Tasks (Active + Completed)\n",
      "Press 6 - To exit\n",
      "All Tasks:\n",
      "ID: 1 - Buy Vegetables - Status: Active\n",
      "ID: 2 - Clean Home - Status: Completed\n",
      "ID: 3 - Buy Fruits - Status: Active\n",
      "\n",
      "Welcome to ToDo List App\n",
      "Press 1 - To add a new task to ToDo List\n",
      "Press 2 - To Remove Task From ToDo List\n",
      "Press 3 - To complete task\n",
      "Press 4 - To view Active ToDo List\n",
      "Press 5 - To view All Tasks (Active + Completed)\n",
      "Press 6 - To exit\n",
      "Exiting the app.\n"
     ]
    }
   ],
   "source": [
    "# Function to add a task to the to-do list\n",
    "def add_task(tasks):\n",
    "    task = input(\"Enter the task: \")\n",
    "    task_id = len(tasks) + 1  # Generate an ID for the task\n",
    "    tasks.append({'id': task_id, 'task': task, 'completed': False})\n",
    "    print(f\"Task '{task}' added with ID {task_id}.\")\n",
    "\n",
    "# Function to remove a task from the to-do list\n",
    "def remove_task(tasks):\n",
    "    view_tasks(tasks)  # Show tasks before removing\n",
    "    try:\n",
    "        task_id = int(input(\"Enter the ID of the task you want to remove: \"))\n",
    "        task_to_remove = next((task for task in tasks if task['id'] == task_id), None)\n",
    "        if task_to_remove:\n",
    "            tasks.remove(task_to_remove)\n",
    "            print(f\"Task with ID {task_id} removed.\")\n",
    "            # Adjust IDs of remaining tasks\n",
    "            adjust_task_ids(tasks)\n",
    "        else:\n",
    "            print(f\"Task with ID {task_id} not found.\")\n",
    "    except ValueError:\n",
    "        print(\"Please enter a valid task ID.\")\n",
    "\n",
    "# Function to mark a task as completed\n",
    "def complete_task(tasks):\n",
    "    view_tasks(tasks)  # Show tasks before marking as complete\n",
    "    try:\n",
    "        task_id = int(input(\"Enter the ID of the task you want to mark as complete: \"))\n",
    "        task_to_complete = next((task for task in tasks if task['id'] == task_id), None)\n",
    "        if task_to_complete:\n",
    "            task_to_complete['completed'] = True\n",
    "            print(f\"Task with ID {task_id} marked as completed.\")\n",
    "        else:\n",
    "            print(f\"Task with ID {task_id} not found.\")\n",
    "    except ValueError:\n",
    "        print(\"Please enter a valid task ID.\")\n",
    "\n",
    "# Function to view all active tasks\n",
    "def view_tasks(tasks):\n",
    "    active_tasks = [task for task in tasks if not task['completed']]\n",
    "    if active_tasks:\n",
    "        print(\"Active Tasks:\")\n",
    "        for task in active_tasks:\n",
    "            print(f\"ID: {task['id']} - {task['task']}\")\n",
    "    else:\n",
    "        print(\"No active tasks.\")\n",
    "\n",
    "# Function to view all tasks (active and completed)\n",
    "def view_all_tasks(tasks):\n",
    "    if tasks:\n",
    "        print(\"All Tasks:\")\n",
    "        for task in tasks:\n",
    "            status = \"Completed\" if task['completed'] else \"Active\"\n",
    "            print(f\"ID: {task['id']} - {task['task']} - Status: {status}\")\n",
    "    else:\n",
    "        print(\"No tasks available.\")\n",
    "\n",
    "# Function to adjust the IDs of tasks after a deletion\n",
    "def adjust_task_ids(tasks):\n",
    "    # Reassign IDs starting from 1\n",
    "    for index, task in enumerate(tasks):\n",
    "        task['id'] = index + 1  # Assign sequential IDs starting from 1\n",
    "\n",
    "# Main function to handle user interaction\n",
    "def main():\n",
    "    tasks = []  # List to store all tasks\n",
    "\n",
    "    while True:\n",
    "        print(\"\\nWelcome to ToDo List App\")\n",
    "        print(\"Press 1 - To add a new task to ToDo List\")\n",
    "        print(\"Press 2 - To Remove Task From ToDo List\")\n",
    "        print(\"Press 3 - To complete task\")\n",
    "        print(\"Press 4 - To view Active ToDo List\")\n",
    "        print(\"Press 5 - To view All Tasks (Active + Completed)\")\n",
    "        print(\"Press 6 - To exit\")\n",
    "\n",
    "        choice = input(\"Enter your choice: \")\n",
    "\n",
    "        if choice == '1':\n",
    "            add_task(tasks)\n",
    "        elif choice == '2':\n",
    "            remove_task(tasks)\n",
    "        elif choice == '3':\n",
    "            complete_task(tasks)\n",
    "        elif choice == '4':\n",
    "            view_tasks(tasks)\n",
    "        elif choice == '5':\n",
    "            view_all_tasks(tasks)\n",
    "        elif choice == '6':\n",
    "            print(\"Exiting the app.\")\n",
    "            break\n",
    "        else:\n",
    "            print(\"Invalid choice! Please try again.\")\n",
    "\n",
    "if __name__ == \"__main__\":\n",
    "    main()\n"
   ]
  }
 ],
 "metadata": {
  "kernelspec": {
   "display_name": "Python 3",
   "language": "python",
   "name": "python3"
  },
  "language_info": {
   "codemirror_mode": {
    "name": "ipython",
    "version": 3
   },
   "file_extension": ".py",
   "mimetype": "text/x-python",
   "name": "python",
   "nbconvert_exporter": "python",
   "pygments_lexer": "ipython3",
   "version": "3.11.11"
  }
 },
 "nbformat": 4,
 "nbformat_minor": 5
}
